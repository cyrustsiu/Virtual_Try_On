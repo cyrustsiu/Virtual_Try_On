{
 "cells": [
  {
   "cell_type": "code",
   "execution_count": 3,
   "id": "9c329e52",
   "metadata": {},
   "outputs": [],
   "source": [
    "import os"
   ]
  },
  {
   "cell_type": "code",
   "execution_count": 4,
   "id": "5557935b",
   "metadata": {
    "scrolled": true
   },
   "outputs": [],
   "source": [
    "BASE_DIR = os.getcwd()"
   ]
  },
  {
   "cell_type": "code",
   "execution_count": 8,
   "id": "71505d27",
   "metadata": {},
   "outputs": [],
   "source": [
    "cloth_list_raw = os.listdir(os.path.join(BASE_DIR, \"static/test\", \"cloth\"))"
   ]
  },
  {
   "cell_type": "code",
   "execution_count": 9,
   "id": "128caf28",
   "metadata": {},
   "outputs": [
    {
     "data": {
      "text/plain": [
       "['000038_1.jpg', '000048_1.jpg', '000066_1.jpg', '000109_1.jpg', 'PwC_01.jpg']"
      ]
     },
     "execution_count": 9,
     "metadata": {},
     "output_type": "execute_result"
    }
   ],
   "source": [
    "cloth_list_raw"
   ]
  },
  {
   "cell_type": "code",
   "execution_count": 19,
   "id": "ece41ccb",
   "metadata": {},
   "outputs": [],
   "source": [
    "person_list_raw = os.listdir(os.path.join(BASE_DIR, \"static/web_option\", \"person\"))"
   ]
  },
  {
   "cell_type": "code",
   "execution_count": 20,
   "id": "57b0a623",
   "metadata": {},
   "outputs": [
    {
     "data": {
      "text/plain": [
       "['000074_0.jpg', '000109_0.jpg', '000477_0.jpg']"
      ]
     },
     "execution_count": 20,
     "metadata": {},
     "output_type": "execute_result"
    }
   ],
   "source": [
    "person_list_raw"
   ]
  },
  {
   "cell_type": "code",
   "execution_count": 30,
   "id": "852a7c04",
   "metadata": {},
   "outputs": [],
   "source": [
    "for cloth in cloth_list_raw:\n",
    "    if 'jpg' in cloth:\n",
    "        cloth_list.append([os.path.join(\"static\", \"img\", cloth), counter])\n",
    "        counter += 1"
   ]
  },
  {
   "cell_type": "code",
   "execution_count": 27,
   "id": "ecd4b229",
   "metadata": {},
   "outputs": [],
   "source": [
    "person_list = []\n",
    "counter = 0\n",
    "for person in person_list_raw:\n",
    "    if 'jpg' in person:\n",
    "        person_list.append([os.path.join(\"static/web_option\",\"person\",person), counter])\n",
    "        counter += 1"
   ]
  },
  {
   "cell_type": "code",
   "execution_count": 28,
   "id": "afdeff5d",
   "metadata": {},
   "outputs": [
    {
     "data": {
      "text/plain": [
       "[['static/web_option\\\\person\\\\000074_0.jpg', 0],\n",
       " ['static/web_option\\\\person\\\\000109_0.jpg', 1],\n",
       " ['static/web_option\\\\person\\\\000477_0.jpg', 2]]"
      ]
     },
     "execution_count": 28,
     "metadata": {},
     "output_type": "execute_result"
    }
   ],
   "source": [
    "person_list"
   ]
  },
  {
   "cell_type": "code",
   "execution_count": 15,
   "id": "9e11ec6d",
   "metadata": {},
   "outputs": [],
   "source": [
    "from flask import request"
   ]
  },
  {
   "cell_type": "code",
   "execution_count": 49,
   "id": "df94fece",
   "metadata": {},
   "outputs": [],
   "source": [
    "import os \n",
    "\n",
    "person_list_raw = os.listdir(os.path.join(BASE_DIR, \"static/web_option\", \"person\"))\n",
    "person_list = []\n",
    "p_counter = 0\n",
    "for person in person_list_raw:\n",
    "    if 'jpg' in person:\n",
    "        person_list.append([os.path.join(\"static/web_option\",\"person\",person), p_counter])\n",
    "        p_counter += 1"
   ]
  },
  {
   "cell_type": "code",
   "execution_count": 50,
   "id": "38b76169",
   "metadata": {},
   "outputs": [
    {
     "data": {
      "text/plain": [
       "['static/web_option\\\\person\\\\000074_0.jpg', 0]"
      ]
     },
     "execution_count": 50,
     "metadata": {},
     "output_type": "execute_result"
    }
   ],
   "source": [
    "person_list[0]"
   ]
  },
  {
   "cell_type": "code",
   "execution_count": 51,
   "id": "3522f4b6",
   "metadata": {},
   "outputs": [
    {
     "data": {
      "text/plain": [
       "'000074_0.jpg'"
      ]
     },
     "execution_count": 51,
     "metadata": {},
     "output_type": "execute_result"
    }
   ],
   "source": [
    "person_list[0][0].split(\"\\\\\")[-1]"
   ]
  },
  {
   "cell_type": "code",
   "execution_count": 47,
   "id": "8c7c9c1b",
   "metadata": {},
   "outputs": [],
   "source": [
    "a = \"1234\"\n",
    "b = \"456\""
   ]
  },
  {
   "cell_type": "code",
   "execution_count": 55,
   "id": "93a6fe8e",
   "metadata": {},
   "outputs": [
    {
     "name": "stdout",
     "output_type": "stream",
     "text": [
      "no\n"
     ]
    }
   ],
   "source": [
    "if \"1\" in a:\n",
    "    if \"1\" in b:\n",
    "        print(\"ha\")\n",
    "    else:\n",
    "        print(\"no\")"
   ]
  },
  {
   "cell_type": "code",
   "execution_count": 4,
   "id": "dd00ed25",
   "metadata": {},
   "outputs": [],
   "source": [
    "import cv2\n",
    "import os"
   ]
  },
  {
   "cell_type": "code",
   "execution_count": 1,
   "id": "4643b9d4",
   "metadata": {},
   "outputs": [
    {
     "name": "stdout",
     "output_type": "stream",
     "text": [
      "Provide your image path to resize: C:\\Users\\cyrus\\Desktop\\cyrus_0.png\n"
     ]
    }
   ],
   "source": [
    "img_path = input(\"Provide your image path to resize: \")"
   ]
  },
  {
   "cell_type": "code",
   "execution_count": 2,
   "id": "3814513a",
   "metadata": {},
   "outputs": [
    {
     "data": {
      "text/plain": [
       "'C:\\\\Users\\\\cyrus\\\\Desktop\\\\cyrus_0.png'"
      ]
     },
     "execution_count": 2,
     "metadata": {},
     "output_type": "execute_result"
    }
   ],
   "source": [
    "img_path"
   ]
  },
  {
   "cell_type": "code",
   "execution_count": 5,
   "id": "aafbc9c9",
   "metadata": {},
   "outputs": [],
   "source": [
    "img = cv2.imread(img_path)"
   ]
  },
  {
   "cell_type": "code",
   "execution_count": 6,
   "id": "1ead588f",
   "metadata": {},
   "outputs": [
    {
     "data": {
      "text/plain": [
       "True"
      ]
     },
     "execution_count": 6,
     "metadata": {},
     "output_type": "execute_result"
    }
   ],
   "source": [
    "img = cv2.resize(img, (192, 256))\n",
    "cv2.imwrite(\"C:/Users/cyrus/Desktop/simuliu_.jpg\", img)"
   ]
  },
  {
   "cell_type": "code",
   "execution_count": null,
   "id": "885d3aa7",
   "metadata": {},
   "outputs": [],
   "source": []
  }
 ],
 "metadata": {
  "kernelspec": {
   "display_name": "vto2",
   "language": "python",
   "name": "vto2"
  },
  "language_info": {
   "codemirror_mode": {
    "name": "ipython",
    "version": 3
   },
   "file_extension": ".py",
   "mimetype": "text/x-python",
   "name": "python",
   "nbconvert_exporter": "python",
   "pygments_lexer": "ipython3",
   "version": "3.6.13"
  }
 },
 "nbformat": 4,
 "nbformat_minor": 5
}
